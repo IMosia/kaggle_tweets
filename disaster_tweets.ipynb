{
 "cells": [
  {
   "cell_type": "code",
   "execution_count": 236,
   "id": "2cbee4a3",
   "metadata": {},
   "outputs": [
    {
     "name": "stderr",
     "output_type": "stream",
     "text": [
      "[nltk_data] Downloading package punkt to /Users/imosia/nltk_data...\n",
      "[nltk_data]   Package punkt is already up-to-date!\n",
      "[nltk_data] Downloading package wordnet to /Users/imosia/nltk_data...\n",
      "[nltk_data]   Package wordnet is already up-to-date!\n"
     ]
    },
    {
     "name": "stdout",
     "output_type": "stream",
     "text": [
      "Defaulting to user installation because normal site-packages is not writeable\n",
      "Requirement already satisfied: gensim in /Users/imosia/Library/Python/3.9/lib/python/site-packages (4.3.3)\n",
      "Requirement already satisfied: numpy in /Users/imosia/Library/Python/3.9/lib/python/site-packages (1.26.4)\n",
      "Collecting numpy\n",
      "  Using cached numpy-2.0.2-cp39-cp39-macosx_14_0_arm64.whl (5.3 MB)\n",
      "Requirement already satisfied: smart-open>=1.8.1 in /Users/imosia/Library/Python/3.9/lib/python/site-packages (from gensim) (7.1.0)\n",
      "Requirement already satisfied: scipy<1.14.0,>=1.7.0 in /Users/imosia/Library/Python/3.9/lib/python/site-packages (from gensim) (1.13.1)\n",
      "Requirement already satisfied: wrapt in /Users/imosia/Library/Python/3.9/lib/python/site-packages (from smart-open>=1.8.1->gensim) (1.17.2)\n",
      "\u001b[33mWARNING: You are using pip version 21.2.4; however, version 25.1.1 is available.\n",
      "You should consider upgrading via the '/Library/Developer/CommandLineTools/usr/bin/python3 -m pip install --upgrade pip' command.\u001b[0m\n",
      "Note: you may need to restart the kernel to use updated packages.\n"
     ]
    }
   ],
   "source": [
    "import pandas as pd\n",
    "import matplotlib.pyplot as plt\n",
    "import seaborn as sns\n",
    "import re\n",
    "from nltk.stem import PorterStemmer\n",
    "from nltk.stem import WordNetLemmatizer\n",
    "import nltk\n",
    "nltk.download('punkt')\n",
    "nltk.download('wordnet')\n",
    "import contractions\n",
    "\n",
    "from sklearn.feature_extraction.text import TfidfVectorizer\n",
    "%pip install --upgrade gensim numpy\n",
    "from gensim.models import Word2Vec\n",
    "from sklearn.model_selection import train_test_split\n",
    "\n",
    "from keras.models import Sequential\n",
    "from keras.layers import Dense, Dropout\n",
    "from tensorflow.keras import backend as K\n",
    "from keras.callbacks import EarlyStopping, ModelCheckpoint\n",
    "\n",
    "import warnings\n",
    "warnings.filterwarnings(\"ignore\")\n",
    "import os\n",
    "# all isntead of tenserflow warning\n",
    "os.environ['TF_CPP_MIN_LOG_LEVEL'] = '3' \n",
    "import logging\n",
    "logging.getLogger('absl').setLevel(logging.ERROR)\n",
    "\n",
    "from tqdm import tqdm"
   ]
  },
  {
   "cell_type": "markdown",
   "id": "00788f3d",
   "metadata": {},
   "source": [
    "# Introduction  \n",
    "\n",
    "This project is part of Kaggle competition https://www.kaggle.com/c/nlp-getting-started/overview  \n",
    "The aim of the project is to predict if short corpus of texts collected from tweeter are related to a disaster or not.  \n",
    "This is bianry classification problem which is related to Natural Language Processing (NLP).  \n",
    "The test dataset is located on the Kaggle website, the main metric is F1 score.  "
   ]
  },
  {
   "cell_type": "markdown",
   "id": "3044b485",
   "metadata": {},
   "source": [
    "# Meeting the data  \n",
    "\n",
    "**Data description**:  \n",
    "id - a unique identifier for each tweet  \n",
    "text - the text of the tweet  \n",
    "location - the location the tweet was sent from (may be blank)  \n",
    "keyword - a particular keyword from the tweet (may be blank)  \n",
    "target - in train.csv only, this denotes whether a tweet is about a real disaster (1) or not (0)  \n",
    "\n",
    "**Files**:  \n",
    "train.csv - the training set  \n",
    "test.csv - the test set  \n",
    "sample_submission.csv - a sample submission file in the correct format   \n",
    "\n",
    "**Data Size**:  \n",
    "Train df contains 7613 examples  \n",
    "Test df contains 3263  "
   ]
  },
  {
   "cell_type": "code",
   "execution_count": 237,
   "id": "be2179cd",
   "metadata": {},
   "outputs": [
    {
     "name": "stdout",
     "output_type": "stream",
     "text": [
      "(7613, 5)\n",
      "(3263, 4)\n"
     ]
    }
   ],
   "source": [
    "train_df = pd.read_csv('train.csv')\n",
    "test_df = pd.read_csv('test.csv')\n",
    "\n",
    "print(train_df.shape)\n",
    "print(test_df.shape)\n"
   ]
  },
  {
   "cell_type": "markdown",
   "id": "c12dd31e",
   "metadata": {},
   "source": [
    "# Exploratory Data Analysis  "
   ]
  },
  {
   "cell_type": "code",
   "execution_count": 238,
   "id": "7996f1e2",
   "metadata": {},
   "outputs": [
    {
     "data": {
      "text/html": [
       "<div>\n",
       "<style scoped>\n",
       "    .dataframe tbody tr th:only-of-type {\n",
       "        vertical-align: middle;\n",
       "    }\n",
       "\n",
       "    .dataframe tbody tr th {\n",
       "        vertical-align: top;\n",
       "    }\n",
       "\n",
       "    .dataframe thead th {\n",
       "        text-align: right;\n",
       "    }\n",
       "</style>\n",
       "<table border=\"1\" class=\"dataframe\">\n",
       "  <thead>\n",
       "    <tr style=\"text-align: right;\">\n",
       "      <th></th>\n",
       "      <th>id</th>\n",
       "      <th>keyword</th>\n",
       "      <th>location</th>\n",
       "      <th>text</th>\n",
       "      <th>target</th>\n",
       "    </tr>\n",
       "  </thead>\n",
       "  <tbody>\n",
       "    <tr>\n",
       "      <th>0</th>\n",
       "      <td>1</td>\n",
       "      <td>NaN</td>\n",
       "      <td>NaN</td>\n",
       "      <td>Our Deeds are the Reason of this #earthquake M...</td>\n",
       "      <td>1</td>\n",
       "    </tr>\n",
       "    <tr>\n",
       "      <th>1</th>\n",
       "      <td>4</td>\n",
       "      <td>NaN</td>\n",
       "      <td>NaN</td>\n",
       "      <td>Forest fire near La Ronge Sask. Canada</td>\n",
       "      <td>1</td>\n",
       "    </tr>\n",
       "    <tr>\n",
       "      <th>2</th>\n",
       "      <td>5</td>\n",
       "      <td>NaN</td>\n",
       "      <td>NaN</td>\n",
       "      <td>All residents asked to 'shelter in place' are ...</td>\n",
       "      <td>1</td>\n",
       "    </tr>\n",
       "    <tr>\n",
       "      <th>3</th>\n",
       "      <td>6</td>\n",
       "      <td>NaN</td>\n",
       "      <td>NaN</td>\n",
       "      <td>13,000 people receive #wildfires evacuation or...</td>\n",
       "      <td>1</td>\n",
       "    </tr>\n",
       "    <tr>\n",
       "      <th>4</th>\n",
       "      <td>7</td>\n",
       "      <td>NaN</td>\n",
       "      <td>NaN</td>\n",
       "      <td>Just got sent this photo from Ruby #Alaska as ...</td>\n",
       "      <td>1</td>\n",
       "    </tr>\n",
       "  </tbody>\n",
       "</table>\n",
       "</div>"
      ],
      "text/plain": [
       "   id keyword location                                               text  \\\n",
       "0   1     NaN      NaN  Our Deeds are the Reason of this #earthquake M...   \n",
       "1   4     NaN      NaN             Forest fire near La Ronge Sask. Canada   \n",
       "2   5     NaN      NaN  All residents asked to 'shelter in place' are ...   \n",
       "3   6     NaN      NaN  13,000 people receive #wildfires evacuation or...   \n",
       "4   7     NaN      NaN  Just got sent this photo from Ruby #Alaska as ...   \n",
       "\n",
       "   target  \n",
       "0       1  \n",
       "1       1  \n",
       "2       1  \n",
       "3       1  \n",
       "4       1  "
      ]
     },
     "metadata": {},
     "output_type": "display_data"
    },
    {
     "name": "stdout",
     "output_type": "stream",
     "text": [
      "Number of duplicates in train set: 0\n",
      "Number of duplicates in test set: 0\n"
     ]
    }
   ],
   "source": [
    "display(train_df.head())\n",
    "print(f\"Number of duplicates in train set: {train_df.duplicated().sum()}\")\n",
    "print(f\"Number of duplicates in test set: {test_df.duplicated().sum()}\")"
   ]
  },
  {
   "cell_type": "code",
   "execution_count": 239,
   "id": "fd5f1f2c",
   "metadata": {},
   "outputs": [
    {
     "name": "stdout",
     "output_type": "stream",
     "text": [
      "Missing values in train set:\n",
      "id             0\n",
      "keyword       61\n",
      "location    2533\n",
      "text           0\n",
      "target         0\n",
      "dtype: int64\n",
      "Missing values in test set:\n",
      "id             0\n",
      "keyword       26\n",
      "location    1105\n",
      "text           0\n",
      "dtype: int64\n"
     ]
    }
   ],
   "source": [
    "print(\"Missing values in train set:\")\n",
    "print(train_df.isnull().sum())\n",
    "print(\"Missing values in test set:\")\n",
    "print(test_df.isnull().sum())"
   ]
  },
  {
   "cell_type": "code",
   "execution_count": 240,
   "id": "fc0ead41",
   "metadata": {},
   "outputs": [],
   "source": [
    "assert train_df['id'].is_unique, \"Duplicate IDs found in train set\"\n",
    "assert test_df['id'].is_unique, \"Duplicate IDs found in test set\""
   ]
  },
  {
   "cell_type": "code",
   "execution_count": 241,
   "id": "4b79e0a2",
   "metadata": {},
   "outputs": [
    {
     "name": "stdout",
     "output_type": "stream",
     "text": [
      "Distribution of target variable in train set:\n",
      "target\n",
      "0    0.57034\n",
      "1    0.42966\n",
      "Name: proportion, dtype: float64\n"
     ]
    },
    {
     "data": {
      "image/png": "[encoded data removed]",
      "text/plain": [
       "<Figure size 640x480 with 1 Axes>"
      ]
     },
     "metadata": {},
     "output_type": "display_data"
    }
   ],
   "source": [
    "print(\"Distribution of target variable in train set:\")\n",
    "print(train_df['target'].value_counts(normalize=True))\n",
    "\n",
    "sns.countplot(x='target', data=train_df)\n",
    "plt.title('Distribution of Target Variable')\n",
    "plt.xlabel('Target')\n",
    "plt.ylabel('Count')\n",
    "plt.show()\n"
   ]
  },
  {
   "cell_type": "code",
   "execution_count": 242,
   "id": "14ba6931",
   "metadata": {},
   "outputs": [
    {
     "name": "stdout",
     "output_type": "stream",
     "text": [
      "Number of unique locations in train set: 3341\n",
      "Number of unique locations in test set: 1602\n",
      "Top 5 locations in train set by count:\n",
      "location\n",
      "USA              104\n",
      "New York          71\n",
      "United States     50\n",
      "London            45\n",
      "Canada            29\n",
      "Name: count, dtype: int64\n"
     ]
    }
   ],
   "source": [
    "print(f\"Number of unique locations in train set: {train_df['location'].nunique()}\")\n",
    "print(f\"Number of unique locations in test set: {test_df['location'].nunique()}\")\n",
    "\n",
    "print(\"Top 5 locations in train set by count:\")\n",
    "print(train_df['location'].value_counts().head())\n",
    "\n",
    "train_df = train_df.drop(columns=['location'])\n",
    "test_df = test_df.drop(columns=['location'])"
   ]
  },
  {
   "cell_type": "code",
   "execution_count": 243,
   "id": "df6e2a8b",
   "metadata": {},
   "outputs": [
    {
     "name": "stdout",
     "output_type": "stream",
     "text": [
      "Number of unique keywords in train set: 221\n",
      "Number of unique keywords in test set: 221\n",
      "Top 30 keywords in train set by count:\n",
      "keyword\n",
      "fatalities     45\n",
      "deluge         42\n",
      "armageddon     42\n",
      "sinking        41\n",
      "damage         41\n",
      "harm           41\n",
      "body%20bags    41\n",
      "outbreak       40\n",
      "evacuate       40\n",
      "fear           40\n",
      "collided       40\n",
      "siren          40\n",
      "twister        40\n",
      "windstorm      40\n",
      "sinkhole       39\n",
      "sunk           39\n",
      "hellfire       39\n",
      "weapon         39\n",
      "weapons        39\n",
      "famine         39\n",
      "explosion      39\n",
      "whirlwind      39\n",
      "earthquake     39\n",
      "derailment     39\n",
      "wreckage       39\n",
      "collision      39\n",
      "flames         39\n",
      "wrecked        39\n",
      "oil%20spill    38\n",
      "flooding       38\n",
      "Name: count, dtype: int64\n",
      "Percentage of rows where keyword is in text in train set:\n",
      "52.04255878103245\n",
      "Percentage of rows where keyword is in text in test set:\n",
      "52.099295127183574\n",
      "Examples where keyword is not in text in train set:\n",
      "                                                   text      keyword\n",
      "239   ANNIHILATED IN DAMASCUS: SYRIAN ARMY GRINDS Û...  annihilated\n",
      "4433  whO'S THAT SHADOW HOLDIN ME HOSTAGE I'VE BEEN ...      hostage\n",
      "4791  #auspol Can you see the resemblance between AB...  loud%20bang\n",
      "4528  UPDATE:M.E. confirms 2 women pulled from burni...      injured\n",
      "3715  Horror films are made by incredibly creative a...         fear\n"
     ]
    }
   ],
   "source": [
    "print(f\"Number of unique keywords in train set: {train_df['keyword'].nunique()}\")\n",
    "print(f\"Number of unique keywords in test set: {test_df['keyword'].nunique()}\")\n",
    "\n",
    "print(\"Top 30 keywords in train set by count:\")\n",
    "print(train_df['keyword'].value_counts().head(30))\n",
    "\n",
    "# Do we really need this information?\n",
    "train_df['text'] = train_df['text'].astype(str)\n",
    "test_df['text'] = test_df['text'].astype(str)\n",
    "train_df['keyword'] = train_df['keyword'].astype(str)\n",
    "test_df['keyword'] = test_df['keyword'].astype(str)\n",
    "\n",
    "def keyword_in_text(row):\n",
    "    return row['keyword'] in row['text']\n",
    "\n",
    "train_df['keyword_in_text'] = train_df.apply(keyword_in_text, axis=1)\n",
    "print(\"Percentage of rows where keyword is in text in train set:\")\n",
    "print(train_df['keyword_in_text'].mean() * 100)\n",
    "print(\"Percentage of rows where keyword is in text in test set:\")\n",
    "test_df['keyword_in_text'] = test_df.apply(keyword_in_text, axis=1)\n",
    "print(test_df['keyword_in_text'].mean() * 100)\n",
    "\n",
    "print(\"Examples where keyword is not in text in train set:\")\n",
    "print(train_df[~train_df['keyword_in_text']].sample(5)[['text', 'keyword']])\n",
    "\n",
    "train_df = train_df.drop(columns=['keyword_in_text', 'keyword'])\n",
    "test_df = test_df.drop(columns=['keyword_in_text', 'keyword'])"
   ]
  },
  {
   "cell_type": "code",
   "execution_count": 244,
   "id": "25b15423",
   "metadata": {},
   "outputs": [
    {
     "name": "stdout",
     "output_type": "stream",
     "text": [
      "Examples from text column in train set:\n",
      "['Read an eyewitness account from #Hiroshima from this day in 1945 http://t.co/QUEDV2xxxX #LIFE', \"@rjkrraj @KarnakaranK @vimvith whether pressure or not NON wud not survived even if thalapathi didn't release\", '[#Latestnews] Police officer wounded suspect dead after exchanging shots: RICHMOND Va. (AP) \\x89ÛÓ A Richmond pol... http://t.co/ia1HnGnHVB', '#boy #mix Ultimate #preparedness library: http://t.co/O207JyaByz Prepare Yourself For Any Catastrophe. Over 10 http://t.co/cjCtb2oCxg', '@TOIIndiaNews ofcourse \\n\\nJust 8 minute b4 tragedy another train had crossed this place \\n\\nN a flash flood caued washing of tracks..']\n"
     ]
    },
    {
     "data": {
      "image/png": "[encoded data removed]",
      "text/plain": [
       "<Figure size 1000x600 with 1 Axes>"
      ]
     },
     "metadata": {},
     "output_type": "display_data"
    }
   ],
   "source": [
    "print(\"Examples from text column in train set:\")\n",
    "print(train_df['text'].sample(5).tolist())\n",
    "\n",
    "train_df['text_length'] = train_df['text'].apply(lambda x: len(x.split()))\n",
    "test_df['text_length'] = test_df['text'].apply(lambda x: len(x.split()))\n",
    "plt.figure(figsize=(10, 6))\n",
    "sns.boxplot(x='target', y='text_length', data=train_df)\n",
    "plt.title('Text Length Distribution by Target Variable')\n",
    "plt.xlabel('Target')\n",
    "plt.ylabel('Text Length (number of words)')\n",
    "plt.show()\n",
    "\n",
    "train_df = train_df.drop(columns=['text_length'])\n",
    "test_df = test_df.drop(columns=['text_length'])"
   ]
  },
  {
   "cell_type": "code",
   "execution_count": 245,
   "id": "ed88951b",
   "metadata": {},
   "outputs": [],
   "source": [
    "def clean_text(text):\n",
    "    text = re.sub(r'http\\S+|www\\S+|https\\S+', '', text, flags=re.MULTILINE)\n",
    "    text = re.sub(r'\\@\\w+|\\#', '', text)\n",
    "    text = re.sub(r'[^\\w\\s]', '', text)\n",
    "    return text\n",
    "\n",
    "\n",
    "def lemmatize_text(text):\n",
    "    lemmatizer = WordNetLemmatizer()\n",
    "    words = nltk.word_tokenize(text)\n",
    "    lemmatized_text = ' '.join([lemmatizer.lemmatize(word) for word in words])\n",
    "    return lemmatized_text\n",
    "\n",
    "\n",
    "train_df['cleaned_text'] = train_df['text'].apply(clean_text)\n",
    "test_df['cleaned_text'] = test_df['text'].apply(clean_text)\n",
    "train_df['lemmatized_text'] = train_df['cleaned_text'].apply(lemmatize_text)\n",
    "test_df['lemmatized_text'] = test_df['cleaned_text'].apply(lemmatize_text)\n",
    "\n",
    "train_df = train_df.drop(columns=['cleaned_text'])\n",
    "test_df = test_df.drop(columns=['cleaned_text'])\n"
   ]
  },
  {
   "cell_type": "code",
   "execution_count": 246,
   "id": "ba7d92e9",
   "metadata": {},
   "outputs": [
    {
     "name": "stdout",
     "output_type": "stream",
     "text": [
      "CPU times: user 3.01 s, sys: 263 ms, total: 3.28 s\n",
      "Wall time: 2.98 s\n"
     ]
    }
   ],
   "source": [
    "%%time\n",
    "tfidf_vectorizer = TfidfVectorizer(max_features=1000)\n",
    "train_tfidf = tfidf_vectorizer.fit_transform(train_df['lemmatized_text'])\n",
    "test_tfidf = tfidf_vectorizer.transform(test_df['lemmatized_text'])\n",
    "train_tfidf_df = pd.DataFrame(train_tfidf.toarray(), columns=tfidf_vectorizer.get_feature_names_out())\n",
    "test_tfidf_df = pd.DataFrame(test_tfidf.toarray(), columns=tfidf_vectorizer.get_feature_names_out())\n",
    "\n",
    "\n",
    "def train_word2vec_model(texts, vector_size=100, window=5, min_count=1, workers=4):\n",
    "    tokenized_texts = [nltk.word_tokenize(text) for text in texts]\n",
    "    model = Word2Vec(sentences=tokenized_texts, vector_size=vector_size, window=window, min_count=min_count, workers=workers)\n",
    "    return model\n",
    "\n",
    "train_word2vec_model = train_word2vec_model(train_df['lemmatized_text'])\n",
    "def vectorize_texts_with_word2vec(model, texts):\n",
    "    vectors = []\n",
    "    for text in texts:\n",
    "        tokens = text.split()\n",
    "        valid_tokens = [token for token in tokens if token in model.wv]\n",
    "        if valid_tokens:\n",
    "            vector = sum(model.wv[token] for token in valid_tokens) / len(valid_tokens)\n",
    "        else:\n",
    "            vector = [0] * model.vector_size\n",
    "        vectors.append(vector)\n",
    "    return pd.DataFrame(vectors)\n",
    "\n",
    "train_word2vec_vectors = vectorize_texts_with_word2vec(train_word2vec_model, train_df['lemmatized_text'])\n",
    "test_word2vec_vectors = vectorize_texts_with_word2vec(train_word2vec_model, test_df['lemmatized_text'])\n",
    "\n",
    "\n",
    "# additional version of Tf-IDF with very clean text :)\n",
    "\n",
    "def clean_text_alot(text):\n",
    "    text = text.lower()\n",
    "    text = contractions.fix(text)\n",
    "    text = re.sub(r\"http\\S+|www\\S+|https\\S+\", \"\", text)\n",
    "    text = re.sub(r\"@\\w+\", \"\", text)\n",
    "    text = re.sub(r\"#\", \"\", text)\n",
    "    text = re.sub(r\"[^a-zA-Z0-9\\s]\", \"\", text)\n",
    "    tokens = nltk.word_tokenize(text)\n",
    "    stop_words = set(nltk.corpus.stopwords.words('english'))\n",
    "    tokens = [t for t in tokens if t not in stop_words]\n",
    "    lemmatizer = WordNetLemmatizer()\n",
    "    tokens = [lemmatizer.lemmatize(t) for t in tokens]\n",
    "    return \" \".join(tokens)\n",
    "\n",
    "train_df['cleaned_text_alot'] = train_df['text'].apply(clean_text_alot)\n",
    "test_df['cleaned_text_alot'] = test_df['text'].apply(clean_text_alot)\n",
    "\n",
    "tfidf_vectorizer_alot = TfidfVectorizer(max_features=1000)\n",
    "train_tfidf_alot = tfidf_vectorizer_alot.fit_transform(train_df['cleaned_text_alot'])\n",
    "test_tfidf_alot = tfidf_vectorizer_alot.transform(test_df['cleaned_text_alot'])\n",
    "train_tfidf_alot_df = pd.DataFrame(train_tfidf_alot.toarray(), columns=tfidf_vectorizer_alot.get_feature_names_out())\n",
    "test_tfidf_alot_df = pd.DataFrame(test_tfidf_alot.toarray(), columns=tfidf_vectorizer_alot.get_feature_names_out())\n",
    "\n",
    "# same with 500 features\n",
    "tfidf_vectorizer_alot = TfidfVectorizer(max_features=500)\n",
    "train_tfidf_alot_500 = tfidf_vectorizer_alot.fit_transform(train_df['cleaned_text_alot'])\n",
    "test_tfidf_alot_500 = tfidf_vectorizer_alot.transform(test_df['cleaned_text_alot'])\n",
    "train_tfidf_alot_500_df = pd.DataFrame(train_tfidf_alot_500.toarray(), columns=tfidf_vectorizer_alot.get_feature_names_out())\n",
    "test_tfidf_alot_500_df = pd.DataFrame(test_tfidf_alot_500.toarray(), columns=tfidf_vectorizer_alot.get_feature_names_out())\n",
    "\n",
    "# same with 2500 features\n",
    "tfidf_vectorizer_alot = TfidfVectorizer(max_features=2500)\n",
    "train_tfidf_alot_2500 = tfidf_vectorizer_alot.fit_transform(train_df['cleaned_text_alot'])\n",
    "test_tfidf_alot_2500 = tfidf_vectorizer_alot.transform(test_df['cleaned_text_alot'])\n",
    "train_tfidf_alot_2500_df = pd.DataFrame(train_tfidf_alot_2500.toarray(), columns=tfidf_vectorizer_alot.get_feature_names_out())\n",
    "test_tfidf_alot_2500_df = pd.DataFrame(test_tfidf_alot_2500.toarray(), columns=tfidf_vectorizer_alot.get_feature_names_out())\n",
    "\n",
    "# and with 5k features\n",
    "tfidf_vectorizer_alot = TfidfVectorizer(max_features=5000)\n",
    "train_tfidf_alot_5000 = tfidf_vectorizer_alot.fit_transform(train_df['cleaned_text_alot'])\n",
    "test_tfidf_alot_5000 = tfidf_vectorizer_alot.transform(test_df['cleaned_text_alot'])\n",
    "train_tfidf_alot_5000_df = pd.DataFrame(train_tfidf_alot_5000.toarray(), columns=tfidf_vectorizer_alot.get_feature_names_out())\n",
    "test_tfidf_alot_5000_df = pd.DataFrame(test_tfidf_alot_5000.toarray(), columns=tfidf_vectorizer_alot.get_feature_names_out())"
   ]
  },
  {
   "cell_type": "markdown",
   "id": "56009b01",
   "metadata": {},
   "source": [
    "### Conclusion on EDA  \n",
    "The initial data consist of id, keyword, location, text and label.  \n",
    "\n",
    "**ID** is unique column in both test and train.  \n",
    "\n",
    "**Location** has a lot of missing values and wide range of possible values - ommited.  \n",
    "\n",
    "**Keyword** has a few missing values and may be interesting feature to see on which keywords the future models make mistake.  \n",
    "However, it was decided to proceed only with test analysis, without any additional features.  \n",
    "\n",
    "**Label** is relatevly balanced, with no need for balancing the clases.  \n",
    "\n",
    "**Text** is indeed from tweeter, with length 10-30 words, no missing values.  \n",
    "Text was cleaned and lemmitized.  \n",
    "I choose 2 vectorization methods, to compare how they perform  \n"
   ]
  },
  {
   "cell_type": "markdown",
   "id": "ab95a9e4",
   "metadata": {},
   "source": [
    "##### TF-IDF  \n",
    "TF-IDF combines information on how frequent is every words across documents (if it is in every document, it is unlikely t be informative) with how frequent it is in the document:\n",
    "\n",
    "\n",
    "$$\n",
    "\\text{tf}_{t,d} = \\begin{cases}\n",
    "                     1 +\\log\\text{count}(t,d) & \\text{if count}(t,d) > 0 \\\\\n",
    "                     0 & \\text{otherwise}\n",
    "                   \\end{cases}\n",
    "$$\n",
    "\n",
    "$$\n",
    "\\text{idf}_t = \\log \\frac{N}{\\text{df}_t} \n",
    "$$\n",
    "\n",
    "\n",
    "##### Word2Vec  \n",
    "This technique captures information about the meaning of word by comparing neighbourd words. If two words are usually seen in the same context, they will be close by meaning, that's the main idea.  \n",
    "It may be that this one is more usefull for our purposes, but let's see."
   ]
  },
  {
   "cell_type": "code",
   "execution_count": null,
   "id": "9aac478b",
   "metadata": {},
   "outputs": [],
   "source": []
  },
  {
   "cell_type": "markdown",
   "id": "0912de1f",
   "metadata": {},
   "source": [
    "# Models  \n",
    "\n",
    "There are several predifined paterns. First of all, it is output layer with 1 neuron (as it is binary classification) with sigmoid.  \n",
    "The neural nets should contain of normal dense layers with activation (ReLU in this case).  \n",
    "The parameter i would like to variate is the number of deep layers and their size."
   ]
  },
  {
   "cell_type": "code",
   "execution_count": 247,
   "id": "72dc6d0c",
   "metadata": {},
   "outputs": [],
   "source": [
    "def split_data(df, features, test_size=0.2, random_state=42, target_col='target'):\n",
    "    if features == 'Word2Vec':\n",
    "        X = train_word2vec_vectors\n",
    "    elif features == 'TF-IDF':\n",
    "        X = train_tfidf_df \n",
    "    elif features == 'TF-IDF_alot':\n",
    "        X = train_tfidf_alot_df\n",
    "    elif features == 'TF-IDF_alot_500':\n",
    "        X = train_tfidf_alot_500_df\n",
    "    elif features == 'TF-IDF_alot_2500':\n",
    "        X = train_tfidf_alot_2500_df\n",
    "    elif features == 'TF-IDF_alot_5000':\n",
    "        X = train_tfidf_alot_5000_df\n",
    "    else:\n",
    "        X = train_df['text']\n",
    "    y = train_df[target_col]\n",
    "    X_train, X_val, y_train, y_val = train_test_split(X, y, test_size=test_size, random_state=random_state, stratify=y)\n",
    "    return X_train, X_val, y_train, y_val\n",
    "\n"
   ]
  },
  {
   "cell_type": "code",
   "execution_count": null,
   "id": "a3352801",
   "metadata": {},
   "outputs": [],
   "source": [
    "results_df = pd.DataFrame(columns=['model', 'accuracy', 'f1_score', 'feature_col'])\n",
    "\n",
    "def f1_score(y_true, y_pred):\n",
    "    \"\"\"\n",
    "    Custom F1 score metric for Keras\n",
    "    \"\"\"\n",
    "    y_pred = K.round(y_pred)\n",
    "    y_true = K.cast(y_true, 'float32')\n",
    "    tp = K.sum(K.cast(y_true * y_pred, 'float'), axis=0)\n",
    "    fp = K.sum(K.cast((1 - y_true) * y_pred, 'float'), axis=0)\n",
    "    fn = K.sum(K.cast(y_true * (1 - y_pred), 'float'), axis=0)\n",
    "\n",
    "    precision = tp / (tp + fp + K.epsilon())\n",
    "    recall = tp / (tp + fn + K.epsilon())\n",
    "\n",
    "    f1 = 2 * precision * recall / (precision + recall + K.epsilon())\n",
    "    return K.mean(f1)\n",
    "\n",
    "def build_model(input_dim, version=1):\n",
    "    model = Sequential()\n",
    "    if version == 1:\n",
    "        model.add(Dense(256, activation='relu'))\n",
    "        model.add(Dropout(0.5))\n",
    "        model.add(Dense(1, activation='sigmoid'))\n",
    "    elif version == 2:\n",
    "        model.add(Dense(256, activation='relu'))\n",
    "        model.add(Dropout(0.5))\n",
    "        model.add(Dense(128, activation='relu'))\n",
    "        model.add(Dropout(0.5))\n",
    "        model.add(Dense(1, activation='sigmoid'))\n",
    "    elif version == 3:\n",
    "        model.add(Dense(256, activation='relu'))\n",
    "        model.add(Dropout(0.5))\n",
    "        model.add(Dense(128, activation='relu'))\n",
    "        model.add(Dropout(0.5))\n",
    "        model.add(Dense(64, activation='relu'))\n",
    "        model.add(Dropout(0.5))\n",
    "        model.add(Dense(1, activation='sigmoid'))\n",
    "    elif version == 4:\n",
    "        model.add(Dense(1024, activation='relu', input_dim=input_dim))\n",
    "        model.add(Dropout(0.5))\n",
    "        model.add(Dense(256, activation='relu'))\n",
    "        model.add(Dropout(0.5))\n",
    "        model.add(Dense(64, activation='relu'))\n",
    "        model.add(Dropout(0.5))\n",
    "        model.add(Dense(1, activation='sigmoid'))\n",
    "    elif version == 5:\n",
    "        model.add(Dense(512, activation='relu', input_dim=input_dim))\n",
    "        model.add(Dropout(0.5))\n",
    "        model.add(Dense(128, activation='relu'))\n",
    "        model.add(Dropout(0.5))\n",
    "        model.add(Dense(32, activation='relu'))\n",
    "        model.add(Dropout(0.5))\n",
    "        model.add(Dense(1, activation='sigmoid'))\n",
    "    else:\n",
    "        raise ValueError(\"Unsupported model version.\")\n",
    "    \n",
    "    model.compile(optimizer='adam'\n",
    "                  , loss='binary_crossentropy'\n",
    "                  , metrics=['accuracy', f1_score])\n",
    "    return model\n",
    "\n",
    "def train_and_evaluate_model(model, X_train, y_train, X_val, y_val, epochs=10, batch_size=32):\n",
    "    early_stopping = EarlyStopping(monitor='val_loss', patience=5, restore_best_weights=True)\n",
    "    history = model.fit(X_train, y_train\n",
    "                        , validation_data=(X_val, y_val)\n",
    "                        , epochs=epochs\n",
    "                        , batch_size=batch_size\n",
    "                        , callbacks=[early_stopping, ModelCheckpoint('best_model.h5', save_best_only=True)]\n",
    "                        , verbose=0)\n",
    "    return model, history\n",
    "\n",
    "def plot_training_history(history):\n",
    "    plt.figure(figsize=(12, 6))\n",
    "    plt.subplot(1, 2, 1)\n",
    "    plt.plot(history.history['accuracy'], label='Train Accuracy')\n",
    "    plt.plot(history.history['val_accuracy'], label='Validation Accuracy')\n",
    "    plt.title('Model Accuracy')\n",
    "    plt.xlabel('Epochs')\n",
    "    plt.ylabel('Accuracy')\n",
    "    plt.legend()\n",
    "\n",
    "    plt.subplot(1, 2, 2)\n",
    "    plt.plot(history.history['loss'], label='Train Loss')\n",
    "    plt.plot(history.history['val_loss'], label='Validation Loss')\n",
    "    plt.title('Model Loss')\n",
    "    plt.xlabel('Epochs')\n",
    "    plt.ylabel('Loss')\n",
    "    plt.legend()\n",
    "\n",
    "    plt.tight_layout()\n",
    "    plt.show()\n",
    "\n",
    "\n",
    "def run_full_pipeline(df, feature_col, version=1, epochs=50, batch_size=32, target_col='target'):\n",
    "    X_train, X_val, y_train, y_val = split_data(df, feature_col)\n",
    "    model = build_model(X_train.shape[1], version=version)\n",
    "    model, history = train_and_evaluate_model(model, X_train, y_train, X_val, y_val, epochs=epochs, batch_size=batch_size)\n",
    "    loss, accuracy, f1_score = model.evaluate(X_val, y_val)\n",
    "    if f1_score > 0.78: # I would like to see only good models\n",
    "        plot_training_history(history)\n",
    "    \n",
    "    print(f\"Model: {model.name}, Accuracy: {accuracy:.4f}, F1 Score: {f1_score:.4f}\")\n",
    "    results_df.loc[len(results_df)] = [str(version), accuracy, f1_score, feature_col]\n",
    "    \n",
    "    return model"
   ]
  },
  {
   "cell_type": "code",
   "execution_count": 249,
   "id": "2d0e01f5",
   "metadata": {},
   "outputs": [
    {
     "name": "stderr",
     "output_type": "stream",
     "text": [
      "Running models:   0%|          | 0/30 [00:00<?, ?it/s]"
     ]
    },
    {
     "name": "stdout",
     "output_type": "stream",
     "text": [
      "\u001b[1m48/48\u001b[0m \u001b[32m━━━━━━━━━━━━━━━━━━━━\u001b[0m\u001b[37m\u001b[0m \u001b[1m0s\u001b[0m 675us/step - accuracy: 0.7920 - f1_score: 0.7346 - loss: 0.4882\n"
     ]
    },
    {
     "name": "stderr",
     "output_type": "stream",
     "text": [
      "Running models:   3%|▎         | 1/30 [00:02<01:11,  2.46s/it]"
     ]
    },
    {
     "name": "stdout",
     "output_type": "stream",
     "text": [
      "Model: sequential_103, Accuracy: 0.8083, F1 Score: 0.7539\n",
      "\u001b[1m48/48\u001b[0m \u001b[32m━━━━━━━━━━━━━━━━━━━━\u001b[0m\u001b[37m\u001b[0m \u001b[1m0s\u001b[0m 652us/step - accuracy: 0.6468 - f1_score: 0.5032 - loss: 0.6423\n"
     ]
    },
    {
     "name": "stderr",
     "output_type": "stream",
     "text": [
      "Running models:   7%|▋         | 2/30 [00:11<03:04,  6.59s/it]"
     ]
    },
    {
     "name": "stdout",
     "output_type": "stream",
     "text": [
      "Model: sequential_104, Accuracy: 0.6573, F1 Score: 0.5224\n",
      "\u001b[1m48/48\u001b[0m \u001b[32m━━━━━━━━━━━━━━━━━━━━\u001b[0m\u001b[37m\u001b[0m \u001b[1m0s\u001b[0m 2ms/step - accuracy: 0.7985 - f1_score: 0.7428 - loss: 0.4724\n"
     ]
    },
    {
     "name": "stderr",
     "output_type": "stream",
     "text": [
      "Running models:  10%|█         | 3/30 [00:14<02:07,  4.71s/it]"
     ]
    },
    {
     "name": "stdout",
     "output_type": "stream",
     "text": [
      "Model: sequential_105, Accuracy: 0.8142, F1 Score: 0.7646\n",
      "\u001b[1m48/48\u001b[0m \u001b[32m━━━━━━━━━━━━━━━━━━━━\u001b[0m\u001b[37m\u001b[0m \u001b[1m0s\u001b[0m 659us/step - accuracy: 0.7749 - f1_score: 0.7168 - loss: 0.4988\n"
     ]
    },
    {
     "name": "stderr",
     "output_type": "stream",
     "text": [
      "Running models:  13%|█▎        | 4/30 [00:17<01:40,  3.87s/it]"
     ]
    },
    {
     "name": "stdout",
     "output_type": "stream",
     "text": [
      "Model: sequential_106, Accuracy: 0.7965, F1 Score: 0.7477\n",
      "\u001b[1m48/48\u001b[0m \u001b[32m━━━━━━━━━━━━━━━━━━━━\u001b[0m\u001b[37m\u001b[0m \u001b[1m0s\u001b[0m 854us/step - accuracy: 0.8054 - f1_score: 0.7570 - loss: 0.4746\n"
     ]
    },
    {
     "data": {
      "image/png": "[encoded data removed]",
      "text/plain": [
       "<Figure size 1200x600 with 2 Axes>"
      ]
     },
     "metadata": {},
     "output_type": "display_data"
    },
    {
     "name": "stderr",
     "output_type": "stream",
     "text": [
      "Running models:  17%|█▋        | 5/30 [00:20<01:37,  3.88s/it]"
     ]
    },
    {
     "name": "stdout",
     "output_type": "stream",
     "text": [
      "Model: sequential_107, Accuracy: 0.8240, F1 Score: 0.7838\n",
      "\u001b[1m48/48\u001b[0m \u001b[32m━━━━━━━━━━━━━━━━━━━━\u001b[0m\u001b[37m\u001b[0m \u001b[1m0s\u001b[0m 997us/step - accuracy: 0.7877 - f1_score: 0.7433 - loss: 0.4885\n"
     ]
    },
    {
     "name": "stderr",
     "output_type": "stream",
     "text": [
      "Running models:  20%|██        | 6/30 [00:27<01:55,  4.83s/it]"
     ]
    },
    {
     "name": "stdout",
     "output_type": "stream",
     "text": [
      "Model: sequential_108, Accuracy: 0.8076, F1 Score: 0.7686\n",
      "\u001b[1m48/48\u001b[0m \u001b[32m━━━━━━━━━━━━━━━━━━━━\u001b[0m\u001b[37m\u001b[0m \u001b[1m0s\u001b[0m 748us/step - accuracy: 0.7796 - f1_score: 0.7321 - loss: 0.4924\n"
     ]
    },
    {
     "name": "stderr",
     "output_type": "stream",
     "text": [
      "Running models:  23%|██▎       | 7/30 [00:30<01:36,  4.18s/it]"
     ]
    },
    {
     "name": "stdout",
     "output_type": "stream",
     "text": [
      "Model: sequential_109, Accuracy: 0.8030, F1 Score: 0.7583\n",
      "\u001b[1m48/48\u001b[0m \u001b[32m━━━━━━━━━━━━━━━━━━━━\u001b[0m\u001b[37m\u001b[0m \u001b[1m0s\u001b[0m 717us/step - accuracy: 0.6306 - f1_score: 0.4525 - loss: 0.6560\n"
     ]
    },
    {
     "name": "stderr",
     "output_type": "stream",
     "text": [
      "Running models:  27%|██▋       | 8/30 [00:38<02:00,  5.48s/it]"
     ]
    },
    {
     "name": "stdout",
     "output_type": "stream",
     "text": [
      "Model: sequential_110, Accuracy: 0.6356, F1 Score: 0.4577\n",
      "\u001b[1m48/48\u001b[0m \u001b[32m━━━━━━━━━━━━━━━━━━━━\u001b[0m\u001b[37m\u001b[0m \u001b[1m0s\u001b[0m 713us/step - accuracy: 0.7940 - f1_score: 0.7349 - loss: 0.4721\n"
     ]
    },
    {
     "name": "stderr",
     "output_type": "stream",
     "text": [
      "Running models:  30%|███       | 9/30 [00:41<01:37,  4.62s/it]"
     ]
    },
    {
     "name": "stdout",
     "output_type": "stream",
     "text": [
      "Model: sequential_111, Accuracy: 0.8122, F1 Score: 0.7591\n",
      "\u001b[1m48/48\u001b[0m \u001b[32m━━━━━━━━━━━━━━━━━━━━\u001b[0m\u001b[37m\u001b[0m \u001b[1m0s\u001b[0m 693us/step - accuracy: 0.7749 - f1_score: 0.7090 - loss: 0.5026\n"
     ]
    },
    {
     "name": "stderr",
     "output_type": "stream",
     "text": [
      "Running models:  33%|███▎      | 10/30 [00:44<01:21,  4.09s/it]"
     ]
    },
    {
     "name": "stdout",
     "output_type": "stream",
     "text": [
      "Model: sequential_112, Accuracy: 0.7958, F1 Score: 0.7404\n",
      "\u001b[1m48/48\u001b[0m \u001b[32m━━━━━━━━━━━━━━━━━━━━\u001b[0m\u001b[37m\u001b[0m \u001b[1m0s\u001b[0m 853us/step - accuracy: 0.7976 - f1_score: 0.7492 - loss: 0.4728\n"
     ]
    },
    {
     "name": "stderr",
     "output_type": "stream",
     "text": [
      "Running models:  37%|███▋      | 11/30 [00:47<01:14,  3.92s/it]"
     ]
    },
    {
     "name": "stdout",
     "output_type": "stream",
     "text": [
      "Model: sequential_113, Accuracy: 0.8135, F1 Score: 0.7726\n",
      "\u001b[1m48/48\u001b[0m \u001b[32m━━━━━━━━━━━━━━━━━━━━\u001b[0m\u001b[37m\u001b[0m \u001b[1m0s\u001b[0m 1ms/step - accuracy: 0.7867 - f1_score: 0.7253 - loss: 0.4838\n"
     ]
    },
    {
     "name": "stderr",
     "output_type": "stream",
     "text": [
      "Running models:  40%|████      | 12/30 [00:53<01:19,  4.43s/it]"
     ]
    },
    {
     "name": "stdout",
     "output_type": "stream",
     "text": [
      "Model: sequential_114, Accuracy: 0.8089, F1 Score: 0.7561\n",
      "\u001b[1m48/48\u001b[0m \u001b[32m━━━━━━━━━━━━━━━━━━━━\u001b[0m\u001b[37m\u001b[0m \u001b[1m0s\u001b[0m 707us/step - accuracy: 0.7816 - f1_score: 0.7287 - loss: 0.4828\n"
     ]
    },
    {
     "name": "stderr",
     "output_type": "stream",
     "text": [
      "Running models:  43%|████▎     | 13/30 [00:56<01:07,  3.98s/it]"
     ]
    },
    {
     "name": "stdout",
     "output_type": "stream",
     "text": [
      "Model: sequential_115, Accuracy: 0.8050, F1 Score: 0.7564\n",
      "\u001b[1m48/48\u001b[0m \u001b[32m━━━━━━━━━━━━━━━━━━━━\u001b[0m\u001b[37m\u001b[0m \u001b[1m0s\u001b[0m 627us/step - accuracy: 0.5660 - f1_score: 0.0000e+00 - loss: 0.6771\n"
     ]
    },
    {
     "name": "stderr",
     "output_type": "stream",
     "text": [
      "Running models:  47%|████▋     | 14/30 [01:00<01:06,  4.15s/it]"
     ]
    },
    {
     "name": "stdout",
     "output_type": "stream",
     "text": [
      "Model: sequential_116, Accuracy: 0.5706, F1 Score: 0.0000\n",
      "\u001b[1m48/48\u001b[0m \u001b[32m━━━━━━━━━━━━━━━━━━━━\u001b[0m\u001b[37m\u001b[0m \u001b[1m0s\u001b[0m 758us/step - accuracy: 0.7866 - f1_score: 0.7361 - loss: 0.4657\n"
     ]
    },
    {
     "name": "stderr",
     "output_type": "stream",
     "text": [
      "Running models:  50%|█████     | 15/30 [01:03<00:56,  3.78s/it]"
     ]
    },
    {
     "name": "stdout",
     "output_type": "stream",
     "text": [
      "Model: sequential_117, Accuracy: 0.8063, F1 Score: 0.7620\n",
      "\u001b[1m48/48\u001b[0m \u001b[32m━━━━━━━━━━━━━━━━━━━━\u001b[0m\u001b[37m\u001b[0m \u001b[1m0s\u001b[0m 707us/step - accuracy: 0.7739 - f1_score: 0.7078 - loss: 0.4903\n"
     ]
    },
    {
     "name": "stderr",
     "output_type": "stream",
     "text": [
      "Running models:  53%|█████▎    | 16/30 [01:06<00:49,  3.53s/it]"
     ]
    },
    {
     "name": "stdout",
     "output_type": "stream",
     "text": [
      "Model: sequential_118, Accuracy: 0.7971, F1 Score: 0.7410\n",
      "\u001b[1m48/48\u001b[0m \u001b[32m━━━━━━━━━━━━━━━━━━━━\u001b[0m\u001b[37m\u001b[0m \u001b[1m0s\u001b[0m 842us/step - accuracy: 0.7879 - f1_score: 0.7308 - loss: 0.4885\n"
     ]
    },
    {
     "name": "stderr",
     "output_type": "stream",
     "text": [
      "Running models:  57%|█████▋    | 17/30 [01:11<00:48,  3.75s/it]"
     ]
    },
    {
     "name": "stdout",
     "output_type": "stream",
     "text": [
      "Model: sequential_119, Accuracy: 0.8135, F1 Score: 0.7633\n",
      "\u001b[1m48/48\u001b[0m \u001b[32m━━━━━━━━━━━━━━━━━━━━\u001b[0m\u001b[37m\u001b[0m \u001b[1m0s\u001b[0m 1ms/step - accuracy: 0.7934 - f1_score: 0.7315 - loss: 0.4839\n"
     ]
    },
    {
     "name": "stderr",
     "output_type": "stream",
     "text": [
      "Running models:  60%|██████    | 18/30 [01:17<00:54,  4.55s/it]"
     ]
    },
    {
     "name": "stdout",
     "output_type": "stream",
     "text": [
      "Model: sequential_120, Accuracy: 0.8155, F1 Score: 0.7608\n",
      "\u001b[1m48/48\u001b[0m \u001b[32m━━━━━━━━━━━━━━━━━━━━\u001b[0m\u001b[37m\u001b[0m \u001b[1m0s\u001b[0m 1ms/step - accuracy: 0.7876 - f1_score: 0.7226 - loss: 0.4856\n"
     ]
    },
    {
     "name": "stderr",
     "output_type": "stream",
     "text": [
      "Running models:  63%|██████▎   | 19/30 [01:23<00:56,  5.13s/it]"
     ]
    },
    {
     "name": "stdout",
     "output_type": "stream",
     "text": [
      "Model: sequential_121, Accuracy: 0.8076, F1 Score: 0.7495\n",
      "\u001b[1m48/48\u001b[0m \u001b[32m━━━━━━━━━━━━━━━━━━━━\u001b[0m\u001b[37m\u001b[0m \u001b[1m0s\u001b[0m 818us/step - accuracy: 0.5660 - f1_score: 0.0000e+00 - loss: 0.6730\n"
     ]
    },
    {
     "name": "stderr",
     "output_type": "stream",
     "text": [
      "Running models:  67%|██████▋   | 20/30 [01:33<01:05,  6.55s/it]"
     ]
    },
    {
     "name": "stdout",
     "output_type": "stream",
     "text": [
      "Model: sequential_122, Accuracy: 0.5706, F1 Score: 0.0000\n",
      "\u001b[1m48/48\u001b[0m \u001b[32m━━━━━━━━━━━━━━━━━━━━\u001b[0m\u001b[37m\u001b[0m \u001b[1m0s\u001b[0m 1ms/step - accuracy: 0.7938 - f1_score: 0.7430 - loss: 0.4747\n"
     ]
    },
    {
     "name": "stderr",
     "output_type": "stream",
     "text": [
      "Running models:  70%|███████   | 21/30 [01:39<00:56,  6.28s/it]"
     ]
    },
    {
     "name": "stdout",
     "output_type": "stream",
     "text": [
      "Model: sequential_123, Accuracy: 0.8096, F1 Score: 0.7615\n",
      "\u001b[1m48/48\u001b[0m \u001b[32m━━━━━━━━━━━━━━━━━━━━\u001b[0m\u001b[37m\u001b[0m \u001b[1m0s\u001b[0m 883us/step - accuracy: 0.7676 - f1_score: 0.6949 - loss: 0.5000\n"
     ]
    },
    {
     "name": "stderr",
     "output_type": "stream",
     "text": [
      "Running models:  73%|███████▎  | 22/30 [01:44<00:46,  5.81s/it]"
     ]
    },
    {
     "name": "stdout",
     "output_type": "stream",
     "text": [
      "Model: sequential_124, Accuracy: 0.7886, F1 Score: 0.7281\n",
      "\u001b[1m48/48\u001b[0m \u001b[32m━━━━━━━━━━━━━━━━━━━━\u001b[0m\u001b[37m\u001b[0m \u001b[1m0s\u001b[0m 2ms/step - accuracy: 0.7855 - f1_score: 0.7028 - loss: 0.4941\n"
     ]
    },
    {
     "name": "stderr",
     "output_type": "stream",
     "text": [
      "Running models:  77%|███████▋  | 23/30 [01:54<00:49,  7.10s/it]"
     ]
    },
    {
     "name": "stdout",
     "output_type": "stream",
     "text": [
      "Model: sequential_125, Accuracy: 0.8043, F1 Score: 0.7318\n",
      "\u001b[1m48/48\u001b[0m \u001b[32m━━━━━━━━━━━━━━━━━━━━\u001b[0m\u001b[37m\u001b[0m \u001b[1m0s\u001b[0m 3ms/step - accuracy: 0.7856 - f1_score: 0.7140 - loss: 0.4755\n"
     ]
    },
    {
     "name": "stderr",
     "output_type": "stream",
     "text": [
      "Running models:  80%|████████  | 24/30 [02:12<01:03, 10.52s/it]"
     ]
    },
    {
     "name": "stdout",
     "output_type": "stream",
     "text": [
      "Model: sequential_126, Accuracy: 0.8142, F1 Score: 0.7544\n",
      "\u001b[1m48/48\u001b[0m \u001b[32m━━━━━━━━━━━━━━━━━━━━\u001b[0m\u001b[37m\u001b[0m \u001b[1m0s\u001b[0m 862us/step - accuracy: 0.7804 - f1_score: 0.7194 - loss: 0.4872\n"
     ]
    },
    {
     "name": "stderr",
     "output_type": "stream",
     "text": [
      "Running models:  83%|████████▎ | 25/30 [02:16<00:42,  8.59s/it]"
     ]
    },
    {
     "name": "stdout",
     "output_type": "stream",
     "text": [
      "Model: sequential_127, Accuracy: 0.8037, F1 Score: 0.7482\n",
      "\u001b[1m48/48\u001b[0m \u001b[32m━━━━━━━━━━━━━━━━━━━━\u001b[0m\u001b[37m\u001b[0m \u001b[1m0s\u001b[0m 654us/step - accuracy: 0.5660 - f1_score: 0.0000e+00 - loss: 0.6780\n"
     ]
    },
    {
     "name": "stderr",
     "output_type": "stream",
     "text": [
      "Running models:  87%|████████▋ | 26/30 [02:21<00:29,  7.36s/it]"
     ]
    },
    {
     "name": "stdout",
     "output_type": "stream",
     "text": [
      "Model: sequential_128, Accuracy: 0.5706, F1 Score: 0.0000\n",
      "\u001b[1m48/48\u001b[0m \u001b[32m━━━━━━━━━━━━━━━━━━━━\u001b[0m\u001b[37m\u001b[0m \u001b[1m0s\u001b[0m 906us/step - accuracy: 0.7940 - f1_score: 0.7322 - loss: 0.4717\n"
     ]
    },
    {
     "name": "stderr",
     "output_type": "stream",
     "text": [
      "Running models:  90%|█████████ | 27/30 [02:25<00:18,  6.30s/it]"
     ]
    },
    {
     "name": "stdout",
     "output_type": "stream",
     "text": [
      "Model: sequential_129, Accuracy: 0.8096, F1 Score: 0.7553\n",
      "\u001b[1m48/48\u001b[0m \u001b[32m━━━━━━━━━━━━━━━━━━━━\u001b[0m\u001b[37m\u001b[0m \u001b[1m0s\u001b[0m 791us/step - accuracy: 0.7680 - f1_score: 0.6949 - loss: 0.4942\n"
     ]
    },
    {
     "name": "stderr",
     "output_type": "stream",
     "text": [
      "Running models:  93%|█████████▎| 28/30 [02:28<00:11,  5.51s/it]"
     ]
    },
    {
     "name": "stdout",
     "output_type": "stream",
     "text": [
      "Model: sequential_130, Accuracy: 0.7879, F1 Score: 0.7241\n",
      "\u001b[1m48/48\u001b[0m \u001b[32m━━━━━━━━━━━━━━━━━━━━\u001b[0m\u001b[37m\u001b[0m \u001b[1m0s\u001b[0m 1ms/step - accuracy: 0.7889 - f1_score: 0.7386 - loss: 0.4871\n"
     ]
    },
    {
     "name": "stderr",
     "output_type": "stream",
     "text": [
      "Running models:  97%|█████████▋| 29/30 [02:35<00:05,  5.85s/it]"
     ]
    },
    {
     "name": "stdout",
     "output_type": "stream",
     "text": [
      "Model: sequential_131, Accuracy: 0.8168, F1 Score: 0.7710\n",
      "\u001b[1m48/48\u001b[0m \u001b[32m━━━━━━━━━━━━━━━━━━━━\u001b[0m\u001b[37m\u001b[0m \u001b[1m0s\u001b[0m 2ms/step - accuracy: 0.7881 - f1_score: 0.7308 - loss: 0.4808\n"
     ]
    },
    {
     "name": "stderr",
     "output_type": "stream",
     "text": [
      "Running models: 100%|██████████| 30/30 [02:48<00:00,  5.61s/it]"
     ]
    },
    {
     "name": "stdout",
     "output_type": "stream",
     "text": [
      "Model: sequential_132, Accuracy: 0.8089, F1 Score: 0.7588\n",
      "CPU times: user 7min 16s, sys: 1min 27s, total: 8min 43s\n",
      "Wall time: 2min 48s\n"
     ]
    },
    {
     "name": "stderr",
     "output_type": "stream",
     "text": [
      "\n"
     ]
    }
   ],
   "source": [
    "%%time\n",
    "model_options = [1, 2, 3, 4, 5]\n",
    "feature_col_options = ['TF-IDF', 'Word2Vec', 'TF-IDF_alot', 'TF-IDF_alot_500', 'TF-IDF_alot_2500', 'TF-IDF_alot_5000']\n",
    "\n",
    "combinations = [(model, feature_col) for model in model_options for feature_col in feature_col_options]\n",
    "\n",
    "for model_version, feature_col in tqdm(combinations, desc=\"Running models\"):\n",
    "    run_full_pipeline(train_df, feature_col, version=model_version)"
   ]
  },
  {
   "cell_type": "code",
   "execution_count": 250,
   "id": "6397934d",
   "metadata": {},
   "outputs": [
    {
     "data": {
      "text/html": [
       "<div>\n",
       "<style scoped>\n",
       "    .dataframe tbody tr th:only-of-type {\n",
       "        vertical-align: middle;\n",
       "    }\n",
       "\n",
       "    .dataframe tbody tr th {\n",
       "        vertical-align: top;\n",
       "    }\n",
       "\n",
       "    .dataframe thead th {\n",
       "        text-align: right;\n",
       "    }\n",
       "</style>\n",
       "<table border=\"1\" class=\"dataframe\">\n",
       "  <thead>\n",
       "    <tr style=\"text-align: right;\">\n",
       "      <th></th>\n",
       "      <th>model</th>\n",
       "      <th>accuracy</th>\n",
       "      <th>f1_score</th>\n",
       "      <th>feature_col</th>\n",
       "    </tr>\n",
       "  </thead>\n",
       "  <tbody>\n",
       "    <tr>\n",
       "      <th>4</th>\n",
       "      <td>1</td>\n",
       "      <td>0.824032</td>\n",
       "      <td>0.783785</td>\n",
       "      <td>TF-IDF_alot_2500</td>\n",
       "    </tr>\n",
       "    <tr>\n",
       "      <th>10</th>\n",
       "      <td>2</td>\n",
       "      <td>0.813526</td>\n",
       "      <td>0.772634</td>\n",
       "      <td>TF-IDF_alot_2500</td>\n",
       "    </tr>\n",
       "    <tr>\n",
       "      <th>28</th>\n",
       "      <td>5</td>\n",
       "      <td>0.816809</td>\n",
       "      <td>0.770983</td>\n",
       "      <td>TF-IDF_alot_2500</td>\n",
       "    </tr>\n",
       "    <tr>\n",
       "      <th>5</th>\n",
       "      <td>1</td>\n",
       "      <td>0.807617</td>\n",
       "      <td>0.768632</td>\n",
       "      <td>TF-IDF_alot_5000</td>\n",
       "    </tr>\n",
       "    <tr>\n",
       "      <th>2</th>\n",
       "      <td>1</td>\n",
       "      <td>0.814183</td>\n",
       "      <td>0.764603</td>\n",
       "      <td>TF-IDF_alot</td>\n",
       "    </tr>\n",
       "    <tr>\n",
       "      <th>16</th>\n",
       "      <td>3</td>\n",
       "      <td>0.813526</td>\n",
       "      <td>0.763274</td>\n",
       "      <td>TF-IDF_alot_2500</td>\n",
       "    </tr>\n",
       "    <tr>\n",
       "      <th>14</th>\n",
       "      <td>3</td>\n",
       "      <td>0.806303</td>\n",
       "      <td>0.761990</td>\n",
       "      <td>TF-IDF_alot</td>\n",
       "    </tr>\n",
       "    <tr>\n",
       "      <th>20</th>\n",
       "      <td>4</td>\n",
       "      <td>0.809586</td>\n",
       "      <td>0.761529</td>\n",
       "      <td>TF-IDF_alot</td>\n",
       "    </tr>\n",
       "    <tr>\n",
       "      <th>17</th>\n",
       "      <td>3</td>\n",
       "      <td>0.815496</td>\n",
       "      <td>0.760765</td>\n",
       "      <td>TF-IDF_alot_5000</td>\n",
       "    </tr>\n",
       "    <tr>\n",
       "      <th>8</th>\n",
       "      <td>2</td>\n",
       "      <td>0.812213</td>\n",
       "      <td>0.759095</td>\n",
       "      <td>TF-IDF_alot</td>\n",
       "    </tr>\n",
       "    <tr>\n",
       "      <th>29</th>\n",
       "      <td>5</td>\n",
       "      <td>0.808930</td>\n",
       "      <td>0.758816</td>\n",
       "      <td>TF-IDF_alot_5000</td>\n",
       "    </tr>\n",
       "    <tr>\n",
       "      <th>6</th>\n",
       "      <td>2</td>\n",
       "      <td>0.803020</td>\n",
       "      <td>0.758265</td>\n",
       "      <td>TF-IDF</td>\n",
       "    </tr>\n",
       "    <tr>\n",
       "      <th>12</th>\n",
       "      <td>3</td>\n",
       "      <td>0.804990</td>\n",
       "      <td>0.756400</td>\n",
       "      <td>TF-IDF</td>\n",
       "    </tr>\n",
       "    <tr>\n",
       "      <th>11</th>\n",
       "      <td>2</td>\n",
       "      <td>0.808930</td>\n",
       "      <td>0.756083</td>\n",
       "      <td>TF-IDF_alot_5000</td>\n",
       "    </tr>\n",
       "    <tr>\n",
       "      <th>26</th>\n",
       "      <td>5</td>\n",
       "      <td>0.809586</td>\n",
       "      <td>0.755299</td>\n",
       "      <td>TF-IDF_alot</td>\n",
       "    </tr>\n",
       "    <tr>\n",
       "      <th>23</th>\n",
       "      <td>4</td>\n",
       "      <td>0.814183</td>\n",
       "      <td>0.754386</td>\n",
       "      <td>TF-IDF_alot_5000</td>\n",
       "    </tr>\n",
       "    <tr>\n",
       "      <th>0</th>\n",
       "      <td>1</td>\n",
       "      <td>0.808273</td>\n",
       "      <td>0.753871</td>\n",
       "      <td>TF-IDF</td>\n",
       "    </tr>\n",
       "    <tr>\n",
       "      <th>18</th>\n",
       "      <td>4</td>\n",
       "      <td>0.807617</td>\n",
       "      <td>0.749500</td>\n",
       "      <td>TF-IDF</td>\n",
       "    </tr>\n",
       "    <tr>\n",
       "      <th>24</th>\n",
       "      <td>5</td>\n",
       "      <td>0.803677</td>\n",
       "      <td>0.748158</td>\n",
       "      <td>TF-IDF</td>\n",
       "    </tr>\n",
       "    <tr>\n",
       "      <th>3</th>\n",
       "      <td>1</td>\n",
       "      <td>0.796454</td>\n",
       "      <td>0.747681</td>\n",
       "      <td>TF-IDF_alot_500</td>\n",
       "    </tr>\n",
       "    <tr>\n",
       "      <th>15</th>\n",
       "      <td>3</td>\n",
       "      <td>0.797111</td>\n",
       "      <td>0.740997</td>\n",
       "      <td>TF-IDF_alot_500</td>\n",
       "    </tr>\n",
       "    <tr>\n",
       "      <th>9</th>\n",
       "      <td>2</td>\n",
       "      <td>0.795798</td>\n",
       "      <td>0.740417</td>\n",
       "      <td>TF-IDF_alot_500</td>\n",
       "    </tr>\n",
       "    <tr>\n",
       "      <th>22</th>\n",
       "      <td>4</td>\n",
       "      <td>0.804334</td>\n",
       "      <td>0.731809</td>\n",
       "      <td>TF-IDF_alot_2500</td>\n",
       "    </tr>\n",
       "    <tr>\n",
       "      <th>21</th>\n",
       "      <td>4</td>\n",
       "      <td>0.788575</td>\n",
       "      <td>0.728133</td>\n",
       "      <td>TF-IDF_alot_500</td>\n",
       "    </tr>\n",
       "    <tr>\n",
       "      <th>27</th>\n",
       "      <td>5</td>\n",
       "      <td>0.787919</td>\n",
       "      <td>0.724149</td>\n",
       "      <td>TF-IDF_alot_500</td>\n",
       "    </tr>\n",
       "    <tr>\n",
       "      <th>1</th>\n",
       "      <td>1</td>\n",
       "      <td>0.657255</td>\n",
       "      <td>0.522355</td>\n",
       "      <td>Word2Vec</td>\n",
       "    </tr>\n",
       "    <tr>\n",
       "      <th>7</th>\n",
       "      <td>2</td>\n",
       "      <td>0.635588</td>\n",
       "      <td>0.457682</td>\n",
       "      <td>Word2Vec</td>\n",
       "    </tr>\n",
       "    <tr>\n",
       "      <th>19</th>\n",
       "      <td>4</td>\n",
       "      <td>0.570584</td>\n",
       "      <td>0.000000</td>\n",
       "      <td>Word2Vec</td>\n",
       "    </tr>\n",
       "    <tr>\n",
       "      <th>13</th>\n",
       "      <td>3</td>\n",
       "      <td>0.570584</td>\n",
       "      <td>0.000000</td>\n",
       "      <td>Word2Vec</td>\n",
       "    </tr>\n",
       "    <tr>\n",
       "      <th>25</th>\n",
       "      <td>5</td>\n",
       "      <td>0.570584</td>\n",
       "      <td>0.000000</td>\n",
       "      <td>Word2Vec</td>\n",
       "    </tr>\n",
       "  </tbody>\n",
       "</table>\n",
       "</div>"
      ],
      "text/plain": [
       "   model  accuracy  f1_score       feature_col\n",
       "4      1  0.824032  0.783785  TF-IDF_alot_2500\n",
       "10     2  0.813526  0.772634  TF-IDF_alot_2500\n",
       "28     5  0.816809  0.770983  TF-IDF_alot_2500\n",
       "5      1  0.807617  0.768632  TF-IDF_alot_5000\n",
       "2      1  0.814183  0.764603       TF-IDF_alot\n",
       "16     3  0.813526  0.763274  TF-IDF_alot_2500\n",
       "14     3  0.806303  0.761990       TF-IDF_alot\n",
       "20     4  0.809586  0.761529       TF-IDF_alot\n",
       "17     3  0.815496  0.760765  TF-IDF_alot_5000\n",
       "8      2  0.812213  0.759095       TF-IDF_alot\n",
       "29     5  0.808930  0.758816  TF-IDF_alot_5000\n",
       "6      2  0.803020  0.758265            TF-IDF\n",
       "12     3  0.804990  0.756400            TF-IDF\n",
       "11     2  0.808930  0.756083  TF-IDF_alot_5000\n",
       "26     5  0.809586  0.755299       TF-IDF_alot\n",
       "23     4  0.814183  0.754386  TF-IDF_alot_5000\n",
       "0      1  0.808273  0.753871            TF-IDF\n",
       "18     4  0.807617  0.749500            TF-IDF\n",
       "24     5  0.803677  0.748158            TF-IDF\n",
       "3      1  0.796454  0.747681   TF-IDF_alot_500\n",
       "15     3  0.797111  0.740997   TF-IDF_alot_500\n",
       "9      2  0.795798  0.740417   TF-IDF_alot_500\n",
       "22     4  0.804334  0.731809  TF-IDF_alot_2500\n",
       "21     4  0.788575  0.728133   TF-IDF_alot_500\n",
       "27     5  0.787919  0.724149   TF-IDF_alot_500\n",
       "1      1  0.657255  0.522355          Word2Vec\n",
       "7      2  0.635588  0.457682          Word2Vec\n",
       "19     4  0.570584  0.000000          Word2Vec\n",
       "13     3  0.570584  0.000000          Word2Vec\n",
       "25     5  0.570584  0.000000          Word2Vec"
      ]
     },
     "metadata": {},
     "output_type": "display_data"
    }
   ],
   "source": [
    "display(results_df.sort_values(by='f1_score', ascending=False))"
   ]
  },
  {
   "cell_type": "code",
   "execution_count": null,
   "id": "593395ba",
   "metadata": {},
   "outputs": [
    {
     "name": "stdout",
     "output_type": "stream",
     "text": [
      "Best model version: 1, Best feature column: TF-IDF_alot_2500\n",
      "\u001b[1m48/48\u001b[0m \u001b[32m━━━━━━━━━━━━━━━━━━━━\u001b[0m\u001b[37m\u001b[0m \u001b[1m0s\u001b[0m 997us/step - accuracy: 0.7902 - f1_score: 0.7507 - loss: 0.4807\n",
      "Model: sequential_133, Accuracy: 0.8102, F1 Score: 0.7753\n",
      "\u001b[1m102/102\u001b[0m \u001b[32m━━━━━━━━━━━━━━━━━━━━\u001b[0m\u001b[37m\u001b[0m \u001b[1m0s\u001b[0m 640us/step\n"
     ]
    }
   ],
   "source": [
    "best_model_version = results_df.sort_values(by='f1_score', ascending=False).iloc[0]['model']\n",
    "best_feature_col = results_df.sort_values(by='f1_score', ascending=False).iloc[0]['feature_col']\n",
    "\n",
    "print(f\"Best model version: {best_model_version}, Best feature column: {best_feature_col}\")\n",
    "\n",
    "submission_df = pd.read_csv('sample_submission.csv')\n",
    "\n",
    "test_data = test_tfidf_alot_2500_df \n",
    "\n",
    "model = run_full_pipeline(train_df, best_feature_col, version=int(best_model_version))\n",
    "\n",
    "predictions = model.predict(test_data)\n",
    "submission_df['target'] = (predictions > 0.5).astype(int)\n",
    "submission_df.to_csv('submission.csv', index=False)"
   ]
  },
  {
   "cell_type": "markdown",
   "id": "0e176213",
   "metadata": {},
   "source": [
    "# Results and Analysis  \n",
    "Word2Vec was not useful to cath the information about the text.  \n",
    "TF-IDF demonstrated relatively good performance. The best value was with number of feature = 2500, however, the difference is not big, and this is imperic parameter.  \n",
    "I tried several models with different number of layers and number of neurons in each layer.  \n",
    "Suprisingly, reults were combiantion of both - number of features in TF-IDF and architercture of the neural net.  \n",
    "Another suprise for me was that actually the smallest NN with only one layer provided the best results in the end.  "
   ]
  },
  {
   "cell_type": "code",
   "execution_count": 255,
   "id": "ec885ee0",
   "metadata": {},
   "outputs": [
    {
     "data": {
      "image/png": "[encoded data removed]",
      "text/plain": [
       "<Figure size 1400x800 with 1 Axes>"
      ]
     },
     "metadata": {},
     "output_type": "display_data"
    }
   ],
   "source": [
    "plt.figure(figsize=(14, 8))\n",
    "sns.barplot(x='f1_score', y='feature_col', hue='model', data=results_df, ci=None)\n",
    "plt.title('F1 Score by Model Version and Feature Column')\n",
    "plt.xlabel('F1 Score')\n",
    "plt.ylabel('Feature Column')\n",
    "plt.legend(title='Model Version')\n",
    "plt.tight_layout()\n",
    "plt.show()"
   ]
  },
  {
   "cell_type": "markdown",
   "id": "6a60ba06",
   "metadata": {},
   "source": [
    "# Conclusion\n",
    "For me still the key takeway is that optimization of architecture of NN is experement, not a predseign solution.  \n",
    "The model performed reasonably, however, the score on Kaggle is relatevly low.  \n",
    "The reason for it and the point to improve is to actually use a more complicated model for text analysis a pretrained one, for example BERT.  \n",
    "However, in this case it was really interesting to experement on the structure.  \n",
    "The main result is that, actually, it is better to take a pretrrained neural net...  \n",
    "\n",
    "\n",
    "### References  \n",
    "Addison Howard, devrishi, Phil Culliton, and Yufeng Guo. Natural Language Processing with Disaster Tweets. https://kaggle.com/competitions/nlp-getting-started, 2019. Kaggle.  \n",
    "KerasNLP starter notebook Disaster Tweets - https://www.kaggle.com/code/alexia/kerasnlp-starter-notebook-disaster-tweets  \n"
   ]
  },
  {
   "cell_type": "markdown",
   "id": "45773e0f",
   "metadata": {},
   "source": []
  }
 ],
 "metadata": {
  "kernelspec": {
   "display_name": "Python 3",
   "language": "python",
   "name": "python3"
  },
  "language_info": {
   "codemirror_mode": {
    "name": "ipython",
    "version": 3
   },
   "file_extension": ".py",
   "mimetype": "text/x-python",
   "name": "python",
   "nbconvert_exporter": "python",
   "pygments_lexer": "ipython3",
   "version": "3.9.6"
  }
 },
 "nbformat": 4,
 "nbformat_minor": 5
}
